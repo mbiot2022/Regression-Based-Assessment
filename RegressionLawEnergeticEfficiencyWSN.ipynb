{
 "cells": [
  {
   "cell_type": "code",
   "execution_count": 1,
   "id": "9af22c17",
   "metadata": {},
   "outputs": [],
   "source": [
    "import numpy as np"
   ]
  },
  {
   "cell_type": "code",
   "execution_count": 7,
   "id": "a2d2e15d",
   "metadata": {},
   "outputs": [
    {
     "data": {
      "text/plain": [
       "array([[0, 1, 2],\n",
       "       [3, 4, 5]])"
      ]
     },
     "execution_count": 7,
     "metadata": {},
     "output_type": "execute_result"
    }
   ],
   "source": [
    "arr = np.arange(6).reshape(2,3)\n",
    "arr"
   ]
  },
  {
   "cell_type": "code",
   "execution_count": 8,
   "id": "1d42de8d",
   "metadata": {},
   "outputs": [],
   "source": [
    "np.place(arr, arr>2, [44,55,88])"
   ]
  },
  {
   "cell_type": "code",
   "execution_count": 9,
   "id": "2714eed7",
   "metadata": {},
   "outputs": [
    {
     "data": {
      "text/plain": [
       "array([[ 0,  1,  2],\n",
       "       [44, 55, 88]])"
      ]
     },
     "execution_count": 9,
     "metadata": {},
     "output_type": "execute_result"
    }
   ],
   "source": [
    "arr"
   ]
  },
  {
   "cell_type": "code",
   "execution_count": 12,
   "id": "9132727b",
   "metadata": {},
   "outputs": [],
   "source": [
    "L = 400\n",
    "xc = np.random.uniform(0,L, size = 20)"
   ]
  },
  {
   "cell_type": "code",
   "execution_count": 13,
   "id": "dbefc55e",
   "metadata": {},
   "outputs": [
    {
     "data": {
      "text/plain": [
       "array([379.4724178 , 393.26691085,  76.15569715, 165.03676891,\n",
       "       252.32930525, 137.23670685, 335.04076503, 249.30189745,\n",
       "       314.54680704, 386.95858203,  29.1610271 , 375.06700747,\n",
       "       386.36932974, 263.36661734,  84.2022784 , 226.4035951 ,\n",
       "       206.2109351 ,  45.82170191, 270.04588508, 164.18827576])"
      ]
     },
     "execution_count": 13,
     "metadata": {},
     "output_type": "execute_result"
    }
   ],
   "source": [
    "xc"
   ]
  },
  {
   "cell_type": "code",
   "execution_count": 14,
   "id": "a86b147d",
   "metadata": {},
   "outputs": [],
   "source": [
    "nx = 4"
   ]
  },
  {
   "cell_type": "code",
   "execution_count": 18,
   "id": "d39435ab",
   "metadata": {},
   "outputs": [],
   "source": [
    "indice_x = np.int32(np.ceil(xc *(nx/L)))"
   ]
  },
  {
   "cell_type": "code",
   "execution_count": 19,
   "id": "bfa9049d",
   "metadata": {},
   "outputs": [
    {
     "data": {
      "text/plain": [
       "array([4, 4, 1, 2, 3, 2, 4, 3, 4, 4, 1, 4, 4, 3, 1, 3, 3, 1, 3, 2],\n",
       "      dtype=int32)"
      ]
     },
     "execution_count": 19,
     "metadata": {},
     "output_type": "execute_result"
    }
   ],
   "source": [
    "indice_x"
   ]
  },
  {
   "cell_type": "code",
   "execution_count": null,
   "id": "08e2065d",
   "metadata": {},
   "outputs": [],
   "source": []
  }
 ],
 "metadata": {
  "kernelspec": {
   "display_name": "Python 3 (ipykernel)",
   "language": "python",
   "name": "python3"
  },
  "language_info": {
   "codemirror_mode": {
    "name": "ipython",
    "version": 3
   },
   "file_extension": ".py",
   "mimetype": "text/x-python",
   "name": "python",
   "nbconvert_exporter": "python",
   "pygments_lexer": "ipython3",
   "version": "3.11.8"
  }
 },
 "nbformat": 4,
 "nbformat_minor": 5
}
